{
  "nbformat": 4,
  "nbformat_minor": 0,
  "metadata": {
    "kernelspec": {
      "display_name": "Python 3",
      "language": "python",
      "name": "python3"
    },
    "language_info": {
      "codemirror_mode": {
        "name": "ipython",
        "version": 3
      },
      "file_extension": ".py",
      "mimetype": "text/x-python",
      "name": "python",
      "nbconvert_exporter": "python",
      "pygments_lexer": "ipython3",
      "version": "3.6.8"
    },
    "colab": {
      "name": "mahjong_pix2pix_blog.ipynb",
      "provenance": [],
      "collapsed_sections": [],
      "toc_visible": true
    },
    "accelerator": "GPU"
  },
  "cells": [
    {
      "cell_type": "markdown",
      "metadata": {
        "id": "I41vak0_DXKd"
      },
      "source": [
        "# モジュール準備"
      ]
    },
    {
      "cell_type": "code",
      "metadata": {
        "colab": {
          "base_uri": "https://localhost:8080/"
        },
        "id": "nI8z9DuHe0S-",
        "outputId": "718f1438-9aa4-4950-830e-27038332dad8"
      },
      "source": [
        "from google.colab import drive\n",
        "drive.mount('/content/drive')"
      ],
      "execution_count": 2,
      "outputs": [
        {
          "output_type": "stream",
          "name": "stdout",
          "text": [
            "Mounted at /content/drive\n"
          ]
        }
      ]
    },
    {
      "cell_type": "code",
      "metadata": {
        "id": "082tjVNKDXKd"
      },
      "source": [
        "import os\n",
        "import random\n",
        "import tarfile\n",
        "from tqdm import tqdm\n",
        "import xml.etree.ElementTree as ET\n",
        "import pickle\n",
        "import numpy as np\n",
        "import pandas as pd\n",
        "import statistics\n",
        "import collections\n",
        "from sklearn.model_selection import train_test_split\n",
        "from sklearn.metrics import recall_score, precision_score, f1_score\n",
        "from sklearn.preprocessing import MultiLabelBinarizer\n",
        "import torch\n",
        "import torch.nn as nn\n",
        "import torch.backends.cudnn as cudnn\n",
        "import torch.optim as optim\n",
        "import torch.utils.data\n",
        "import torchvision.transforms as transforms\n",
        "import matplotlib.pyplot as plt\n",
        "import torchvision"
      ],
      "execution_count": 13,
      "outputs": []
    },
    {
      "cell_type": "code",
      "source": [
        "pd.options.display.max_columns = 200\n",
        "pd.options.display.max_info_columns = 200\n",
        "pd.options.display.max_info_rows = 1000\n",
        "pd.options.display.max_colwidth = 200"
      ],
      "metadata": {
        "id": "8-gQmURX1Gi2"
      },
      "execution_count": 4,
      "outputs": []
    },
    {
      "cell_type": "code",
      "metadata": {
        "id": "NVwSB5PLDXKd"
      },
      "source": [
        "# dataloaderのワーカー数\n",
        "workers = 2\n",
        "\n",
        "#  利用可能なGPUの数。CPUモードの場合は0を使用。\n",
        "ngpu = 1\n",
        "\n",
        "# どのデバイスで実行するかを決める\n",
        "device = torch.device(\"cuda:0\" if (torch.cuda.is_available() and ngpu > 0) else \"cpu\")"
      ],
      "execution_count": 5,
      "outputs": []
    },
    {
      "cell_type": "markdown",
      "source": [
        "# データ"
      ],
      "metadata": {
        "id": "BO5jYDzPt1Hb"
      }
    },
    {
      "cell_type": "code",
      "source": [
        "# https://qiita.com/neuzen-ryuki/items/48fa468fa0b1c502ed1eから2019.tar.xzをダウンロードし、Google Driveに置いておく\n",
        "\n",
        "local_folder_name = 'tenhou'\n",
        "# os.mkdir(local_folder_name)\n",
        "\n",
        "drive_folder_path = \"/content/drive/MyDrive/mahjong/tenhou\" # 2019.tar.xzを置いたフォルダパス\n",
        "file_name = \"2019.tar.xz\"\n",
        "\n",
        "with tarfile.open(os.path.join(drive_folder_path, file_name)) as tar:\n",
        "    tar.extractall(\"/content/tenhou/\")"
      ],
      "metadata": {
        "id": "bEy9MVrVJoLX"
      },
      "execution_count": 10,
      "outputs": []
    },
    {
      "cell_type": "code",
      "source": [
        "folder_path = \"/content/tenhou/2019/\"\n",
        "files = os.listdir(folder_path)\n",
        "\n",
        "gan_df = pd.DataFrame()\n",
        "\n",
        "for file in tqdm(files[:40000]):\n",
        "  test = ET.parse(os.path.join(folder_path, file))\n",
        "  root = test.getroot()\n",
        "\n",
        "  for child in root:\n",
        "    if child.tag==\"INIT\":\n",
        "      haipai_list= [\n",
        "          child.attrib[\"hai0\"],\n",
        "          child.attrib[\"hai1\"],\n",
        "          child.attrib[\"hai2\"],\n",
        "          child.attrib[\"hai3\"]\n",
        "      ]\n",
        "\n",
        "    elif child.tag==\"AGARI\":\n",
        "      agari = pd.DataFrame(data = child.attrib, index=[0])\n",
        "      haipai = haipai_list[int(agari[\"who\"])]\n",
        "      agari[\"haipai\"] = haipai\n",
        "      gan_df = pd.concat([gan_df, agari], ignore_index=True)"
      ],
      "metadata": {
        "id": "_PZdFEGSTymT"
      },
      "execution_count": null,
      "outputs": []
    },
    {
      "cell_type": "code",
      "source": [
        "print(len(gan_df))\n",
        "gan_df.head()"
      ],
      "metadata": {
        "id": "GbEZkAjgqsFY"
      },
      "execution_count": null,
      "outputs": []
    },
    {
      "cell_type": "code",
      "source": [
        "def naki_treatment(x):\n",
        "  if isinstance(x, str):\n",
        "    furo_hai_id = [furo_to_hai(i) for i in x.split(\",\")]\n",
        "    return sum(furo_hai_id, [])\n",
        "  else:\n",
        "    return []"
      ],
      "metadata": {
        "id": "rVPmEbkJEuwQ"
      },
      "execution_count": 26,
      "outputs": []
    },
    {
      "cell_type": "code",
      "source": [
        "def hai_convert_str(id):\n",
        "  id_int = int(id)\n",
        "  hai = [\"一\", \"二\", \"三\", \"四\", \"五\", \"六\", \"七\", \"八\", \"九\", #萬子\n",
        "        \"①\", \"②\", \"③\", \"④\", \"⑤\", \"⑥\", \"⑦\", \"⑧\", \"⑨\", #筒子\n",
        "        \"1\", \"2\", \"3\", \"4\", \"5\", \"6\", \"7\", \"8\", \"9\", #索子\n",
        "        \"東\", \"南\", \"西\", \"北\", \"白\", \"發\", \"中\", np.nan, np.nan]\n",
        "  return hai[id_int >> 2]"
      ],
      "metadata": {
        "id": "IkFIbW79XzEq"
      },
      "execution_count": 27,
      "outputs": []
    },
    {
      "cell_type": "code",
      "source": [
        "def furo_to_hai(furo):\n",
        "  furo = int(furo)\n",
        "  if (furo & 0x0004):                  # 順子の場合\n",
        "      pattern = (furo & 0xFC00)>>10;          #「順子のパターン」を取得\n",
        "      pattern = int(pattern / 3);\n",
        "      color_id = int(pattern / 7);        # 萬子、筒子、索子を決定\n",
        "      number = pattern % 7 + 1;                 # 1〜7を決定\n",
        "      mentsu_num = [number, number+1, number+2];\n",
        "      soezi = [(furo & 0x0018)>>3, (furo & 0x0060)>>5, (furo & 0x0180)>>7]; # 牌添字1〜3を取得\n",
        "      mentsu = [color_id*9*4+(i-1)*4 + j for i, j in zip(mentsu_num, soezi)]\n",
        "              \n",
        "  elif (furo & 0x0018):               # 刻子、加槓の場合\n",
        "      pattern = (furo & 0xFE00)>>9; #「刻子のパターン」を取得\n",
        "      pattern = int(pattern / 3);\n",
        "      color_id = int(pattern / 9);    # 萬子、筒子、索子、字牌を決定\n",
        "      number = pattern % 9 + 1;                 # 1〜9を決定\n",
        "      soezi = [0, 1, 2, 3]\n",
        "\n",
        "      if (furo & 0x0008): # 刻子\n",
        "        mentsu_num = [number, number, number];\n",
        "        soezi_exclude = (furo & 0x0060)>>5\n",
        "        soezi.remove(soezi_exclude)\n",
        "        mentsu = [color_id*9*4+(i-1)*4 + j for i, j in zip(mentsu_num, soezi)]\n",
        "        \n",
        "      else: # 加槓\n",
        "        mentsu_num = [number, number, number, number];\n",
        "        mentsu = [color_id*9*4+(i-1)*4 + j for i, j in zip(mentsu_num, soezi)]\n",
        "              \n",
        "  else: # 暗槓、大明槓の場合\n",
        "      pattern = (furo & 0xFF00)>>8;           #「槓子のパターン」を取得\n",
        "      pattern = int(pattern / 4);\n",
        "      color_id = int(pattern / 9);    # 萬子、筒子、索子、字牌を決定\n",
        "      number = pattern % 9 + 1;                 # 1〜9を決定\n",
        "      soezi = [0, 1, 2, 3]\n",
        "      mentsu_num = [number, number, number, number];\n",
        "      \n",
        "      if (furo & 0x0003): # 大明槓\n",
        "        mentsu = [color_id*9*4+(i-1)*4 + j for i, j in zip(mentsu_num, soezi)]\n",
        "      else: # 暗槓\n",
        "        mentsu = [color_id*9*4+(i-1)*4 + j for i, j in zip(mentsu_num, soezi)]\n",
        "\n",
        "  mentsu_int = [int(i) for i in mentsu]\n",
        "  return mentsu_int;"
      ],
      "metadata": {
        "id": "wOwRNB5fIPEc"
      },
      "execution_count": 28,
      "outputs": []
    },
    {
      "cell_type": "code",
      "source": [
        "gan_df[\"haipai_id\"] = gan_df.haipai.apply(lambda x: sorted([int(i) for i in  x.split(\",\")]))\n",
        "gan_df[\"haipai_str\"] = gan_df.haipai_id.apply(lambda x: [hai_convert_str(i) for i in  x])\n",
        "gan_df[\"haipai_hai_id\"] = gan_df.haipai_id.apply(lambda x: sorted([id_int >> 2 for id_int in x]))\n",
        "\n",
        "gan_df[\"menzen_id\"] = gan_df.hai.apply(lambda x: sorted([int(i) for i in  x.split(\",\")]))\n",
        "gan_df[\"furo_id\"] = gan_df.m.apply(lambda x: sorted(naki_treatment(x)))\n",
        "\n",
        "gan_df[\"agari_id\"] = gan_df[[\"menzen_id\", \"furo_id\"]].apply(lambda x: sorted(x[1]+x[0]), axis=1)\n",
        "gan_df[\"agari_str\"] = gan_df.agari_id.apply(lambda x: [hai_convert_str(i) for i in x])\n",
        "gan_df[\"agari_hai_id\"] = gan_df.agari_id.apply(lambda x: sorted([id_int >> 2 for id_int in x]))"
      ],
      "metadata": {
        "id": "lS8ALTID6d0q"
      },
      "execution_count": 35,
      "outputs": []
    },
    {
      "cell_type": "code",
      "source": [
        "input_df = gan_df[[\"haipai_id\", \"haipai_str\", \"haipai_hai_id\", \"agari_id\", \"agari_str\", \"agari_hai_id\"]]\n",
        "input_df.head()"
      ],
      "metadata": {
        "id": "8-_x8QpFXrSz",
        "colab": {
          "base_uri": "https://localhost:8080/",
          "height": 337
        },
        "outputId": "24f37e04-aa2e-4f8e-9ec8-6199316eb017"
      },
      "execution_count": 36,
      "outputs": [
        {
          "output_type": "execute_result",
          "data": {
            "text/plain": [
              "                                                  haipai_id  \\\n",
              "0  [29, 38, 42, 45, 65, 69, 75, 85, 96, 115, 118, 125, 126]   \n",
              "1  [6, 20, 22, 27, 50, 55, 65, 99, 101, 103, 108, 123, 124]   \n",
              "2   [26, 43, 52, 61, 70, 74, 76, 80, 93, 98, 101, 112, 130]   \n",
              "3   [10, 20, 22, 27, 33, 46, 59, 64, 71, 78, 124, 130, 134]   \n",
              "4   [3, 25, 42, 43, 44, 47, 54, 70, 90, 100, 104, 126, 133]   \n",
              "\n",
              "                                haipai_str  \\\n",
              "0  [八, ①, ②, ③, ⑧, ⑨, 1, 4, 7, 南, 西, 白, 白]   \n",
              "1  [二, 六, 六, 七, ④, ⑤, ⑧, 7, 8, 8, 東, 北, 白]   \n",
              "2  [七, ②, ⑤, ⑦, ⑨, 1, 2, 3, 6, 7, 8, 南, 發]   \n",
              "3  [三, 六, 六, 七, 九, ③, ⑥, ⑧, ⑨, 2, 白, 發, 中]   \n",
              "4  [一, 七, ②, ②, ③, ③, ⑤, ⑨, 5, 8, 9, 白, 中]   \n",
              "\n",
              "                                         haipai_hai_id  \\\n",
              "0   [7, 9, 10, 11, 16, 17, 18, 21, 24, 28, 29, 31, 31]   \n",
              "1     [1, 5, 5, 6, 12, 13, 16, 24, 25, 25, 27, 30, 31]   \n",
              "2  [6, 10, 13, 15, 17, 18, 19, 20, 23, 24, 25, 28, 32]   \n",
              "3      [2, 5, 5, 6, 8, 11, 14, 16, 17, 19, 31, 32, 33]   \n",
              "4   [0, 6, 10, 10, 11, 11, 13, 17, 22, 25, 26, 31, 33]   \n",
              "\n",
              "                                                         agari_id  \\\n",
              "0   [38, 42, 45, 69, 70, 85, 88, 94, 96, 101, 106, 124, 125, 126]   \n",
              "1       [5, 6, 20, 22, 23, 50, 55, 59, 91, 94, 99, 101, 102, 103]   \n",
              "2        [1, 7, 11, 52, 56, 61, 74, 76, 80, 93, 94, 98, 101, 104]   \n",
              "3  [20, 22, 26, 27, 52, 54, 58, 59, 117, 118, 124, 125, 130, 131]   \n",
              "4         [9, 10, 11, 38, 39, 42, 43, 44, 47, 84, 85, 90, 94, 96]   \n",
              "\n",
              "                                    agari_str  \\\n",
              "0  [①, ②, ③, ⑨, ⑨, 4, 5, 6, 7, 8, 9, 白, 白, 白]   \n",
              "1  [二, 二, 六, 六, 六, ④, ⑤, ⑥, 5, 6, 7, 8, 8, 8]   \n",
              "2  [一, 二, 三, ⑤, ⑥, ⑦, 1, 2, 3, 6, 6, 7, 8, 9]   \n",
              "3  [六, 六, 七, 七, ⑤, ⑤, ⑥, ⑥, 西, 西, 白, 白, 發, 發]   \n",
              "4  [三, 三, 三, ①, ①, ②, ②, ③, ③, 4, 4, 5, 6, 7]   \n",
              "\n",
              "                                              agari_hai_id  \n",
              "0  [9, 10, 11, 17, 17, 21, 22, 23, 24, 25, 26, 31, 31, 31]  \n",
              "1      [1, 1, 5, 5, 5, 12, 13, 14, 22, 23, 24, 25, 25, 25]  \n",
              "2    [0, 1, 2, 13, 14, 15, 18, 19, 20, 23, 23, 24, 25, 26]  \n",
              "3     [5, 5, 6, 6, 13, 13, 14, 14, 29, 29, 31, 31, 32, 32]  \n",
              "4      [2, 2, 2, 9, 9, 10, 10, 11, 11, 21, 21, 22, 23, 24]  "
            ],
            "text/html": [
              "\n",
              "  <div id=\"df-7eca7cc0-988b-45a2-9acd-745da643adfa\">\n",
              "    <div class=\"colab-df-container\">\n",
              "      <div>\n",
              "<style scoped>\n",
              "    .dataframe tbody tr th:only-of-type {\n",
              "        vertical-align: middle;\n",
              "    }\n",
              "\n",
              "    .dataframe tbody tr th {\n",
              "        vertical-align: top;\n",
              "    }\n",
              "\n",
              "    .dataframe thead th {\n",
              "        text-align: right;\n",
              "    }\n",
              "</style>\n",
              "<table border=\"1\" class=\"dataframe\">\n",
              "  <thead>\n",
              "    <tr style=\"text-align: right;\">\n",
              "      <th></th>\n",
              "      <th>haipai_id</th>\n",
              "      <th>haipai_str</th>\n",
              "      <th>haipai_hai_id</th>\n",
              "      <th>agari_id</th>\n",
              "      <th>agari_str</th>\n",
              "      <th>agari_hai_id</th>\n",
              "    </tr>\n",
              "  </thead>\n",
              "  <tbody>\n",
              "    <tr>\n",
              "      <th>0</th>\n",
              "      <td>[29, 38, 42, 45, 65, 69, 75, 85, 96, 115, 118, 125, 126]</td>\n",
              "      <td>[八, ①, ②, ③, ⑧, ⑨, 1, 4, 7, 南, 西, 白, 白]</td>\n",
              "      <td>[7, 9, 10, 11, 16, 17, 18, 21, 24, 28, 29, 31, 31]</td>\n",
              "      <td>[38, 42, 45, 69, 70, 85, 88, 94, 96, 101, 106, 124, 125, 126]</td>\n",
              "      <td>[①, ②, ③, ⑨, ⑨, 4, 5, 6, 7, 8, 9, 白, 白, 白]</td>\n",
              "      <td>[9, 10, 11, 17, 17, 21, 22, 23, 24, 25, 26, 31, 31, 31]</td>\n",
              "    </tr>\n",
              "    <tr>\n",
              "      <th>1</th>\n",
              "      <td>[6, 20, 22, 27, 50, 55, 65, 99, 101, 103, 108, 123, 124]</td>\n",
              "      <td>[二, 六, 六, 七, ④, ⑤, ⑧, 7, 8, 8, 東, 北, 白]</td>\n",
              "      <td>[1, 5, 5, 6, 12, 13, 16, 24, 25, 25, 27, 30, 31]</td>\n",
              "      <td>[5, 6, 20, 22, 23, 50, 55, 59, 91, 94, 99, 101, 102, 103]</td>\n",
              "      <td>[二, 二, 六, 六, 六, ④, ⑤, ⑥, 5, 6, 7, 8, 8, 8]</td>\n",
              "      <td>[1, 1, 5, 5, 5, 12, 13, 14, 22, 23, 24, 25, 25, 25]</td>\n",
              "    </tr>\n",
              "    <tr>\n",
              "      <th>2</th>\n",
              "      <td>[26, 43, 52, 61, 70, 74, 76, 80, 93, 98, 101, 112, 130]</td>\n",
              "      <td>[七, ②, ⑤, ⑦, ⑨, 1, 2, 3, 6, 7, 8, 南, 發]</td>\n",
              "      <td>[6, 10, 13, 15, 17, 18, 19, 20, 23, 24, 25, 28, 32]</td>\n",
              "      <td>[1, 7, 11, 52, 56, 61, 74, 76, 80, 93, 94, 98, 101, 104]</td>\n",
              "      <td>[一, 二, 三, ⑤, ⑥, ⑦, 1, 2, 3, 6, 6, 7, 8, 9]</td>\n",
              "      <td>[0, 1, 2, 13, 14, 15, 18, 19, 20, 23, 23, 24, 25, 26]</td>\n",
              "    </tr>\n",
              "    <tr>\n",
              "      <th>3</th>\n",
              "      <td>[10, 20, 22, 27, 33, 46, 59, 64, 71, 78, 124, 130, 134]</td>\n",
              "      <td>[三, 六, 六, 七, 九, ③, ⑥, ⑧, ⑨, 2, 白, 發, 中]</td>\n",
              "      <td>[2, 5, 5, 6, 8, 11, 14, 16, 17, 19, 31, 32, 33]</td>\n",
              "      <td>[20, 22, 26, 27, 52, 54, 58, 59, 117, 118, 124, 125, 130, 131]</td>\n",
              "      <td>[六, 六, 七, 七, ⑤, ⑤, ⑥, ⑥, 西, 西, 白, 白, 發, 發]</td>\n",
              "      <td>[5, 5, 6, 6, 13, 13, 14, 14, 29, 29, 31, 31, 32, 32]</td>\n",
              "    </tr>\n",
              "    <tr>\n",
              "      <th>4</th>\n",
              "      <td>[3, 25, 42, 43, 44, 47, 54, 70, 90, 100, 104, 126, 133]</td>\n",
              "      <td>[一, 七, ②, ②, ③, ③, ⑤, ⑨, 5, 8, 9, 白, 中]</td>\n",
              "      <td>[0, 6, 10, 10, 11, 11, 13, 17, 22, 25, 26, 31, 33]</td>\n",
              "      <td>[9, 10, 11, 38, 39, 42, 43, 44, 47, 84, 85, 90, 94, 96]</td>\n",
              "      <td>[三, 三, 三, ①, ①, ②, ②, ③, ③, 4, 4, 5, 6, 7]</td>\n",
              "      <td>[2, 2, 2, 9, 9, 10, 10, 11, 11, 21, 21, 22, 23, 24]</td>\n",
              "    </tr>\n",
              "  </tbody>\n",
              "</table>\n",
              "</div>\n",
              "      <button class=\"colab-df-convert\" onclick=\"convertToInteractive('df-7eca7cc0-988b-45a2-9acd-745da643adfa')\"\n",
              "              title=\"Convert this dataframe to an interactive table.\"\n",
              "              style=\"display:none;\">\n",
              "        \n",
              "  <svg xmlns=\"http://www.w3.org/2000/svg\" height=\"24px\"viewBox=\"0 0 24 24\"\n",
              "       width=\"24px\">\n",
              "    <path d=\"M0 0h24v24H0V0z\" fill=\"none\"/>\n",
              "    <path d=\"M18.56 5.44l.94 2.06.94-2.06 2.06-.94-2.06-.94-.94-2.06-.94 2.06-2.06.94zm-11 1L8.5 8.5l.94-2.06 2.06-.94-2.06-.94L8.5 2.5l-.94 2.06-2.06.94zm10 10l.94 2.06.94-2.06 2.06-.94-2.06-.94-.94-2.06-.94 2.06-2.06.94z\"/><path d=\"M17.41 7.96l-1.37-1.37c-.4-.4-.92-.59-1.43-.59-.52 0-1.04.2-1.43.59L10.3 9.45l-7.72 7.72c-.78.78-.78 2.05 0 2.83L4 21.41c.39.39.9.59 1.41.59.51 0 1.02-.2 1.41-.59l7.78-7.78 2.81-2.81c.8-.78.8-2.07 0-2.86zM5.41 20L4 18.59l7.72-7.72 1.47 1.35L5.41 20z\"/>\n",
              "  </svg>\n",
              "      </button>\n",
              "      \n",
              "  <style>\n",
              "    .colab-df-container {\n",
              "      display:flex;\n",
              "      flex-wrap:wrap;\n",
              "      gap: 12px;\n",
              "    }\n",
              "\n",
              "    .colab-df-convert {\n",
              "      background-color: #E8F0FE;\n",
              "      border: none;\n",
              "      border-radius: 50%;\n",
              "      cursor: pointer;\n",
              "      display: none;\n",
              "      fill: #1967D2;\n",
              "      height: 32px;\n",
              "      padding: 0 0 0 0;\n",
              "      width: 32px;\n",
              "    }\n",
              "\n",
              "    .colab-df-convert:hover {\n",
              "      background-color: #E2EBFA;\n",
              "      box-shadow: 0px 1px 2px rgba(60, 64, 67, 0.3), 0px 1px 3px 1px rgba(60, 64, 67, 0.15);\n",
              "      fill: #174EA6;\n",
              "    }\n",
              "\n",
              "    [theme=dark] .colab-df-convert {\n",
              "      background-color: #3B4455;\n",
              "      fill: #D2E3FC;\n",
              "    }\n",
              "\n",
              "    [theme=dark] .colab-df-convert:hover {\n",
              "      background-color: #434B5C;\n",
              "      box-shadow: 0px 1px 3px 1px rgba(0, 0, 0, 0.15);\n",
              "      filter: drop-shadow(0px 1px 2px rgba(0, 0, 0, 0.3));\n",
              "      fill: #FFFFFF;\n",
              "    }\n",
              "  </style>\n",
              "\n",
              "      <script>\n",
              "        const buttonEl =\n",
              "          document.querySelector('#df-7eca7cc0-988b-45a2-9acd-745da643adfa button.colab-df-convert');\n",
              "        buttonEl.style.display =\n",
              "          google.colab.kernel.accessAllowed ? 'block' : 'none';\n",
              "\n",
              "        async function convertToInteractive(key) {\n",
              "          const element = document.querySelector('#df-7eca7cc0-988b-45a2-9acd-745da643adfa');\n",
              "          const dataTable =\n",
              "            await google.colab.kernel.invokeFunction('convertToInteractive',\n",
              "                                                     [key], {});\n",
              "          if (!dataTable) return;\n",
              "\n",
              "          const docLinkHtml = 'Like what you see? Visit the ' +\n",
              "            '<a target=\"_blank\" href=https://colab.research.google.com/notebooks/data_table.ipynb>data table notebook</a>'\n",
              "            + ' to learn more about interactive tables.';\n",
              "          element.innerHTML = '';\n",
              "          dataTable['output_type'] = 'display_data';\n",
              "          await google.colab.output.renderOutput(dataTable, element);\n",
              "          const docLink = document.createElement('div');\n",
              "          docLink.innerHTML = docLinkHtml;\n",
              "          element.appendChild(docLink);\n",
              "        }\n",
              "      </script>\n",
              "    </div>\n",
              "  </div>\n",
              "  "
            ]
          },
          "metadata": {},
          "execution_count": 36
        }
      ]
    },
    {
      "cell_type": "markdown",
      "source": [
        "## データセット化"
      ],
      "metadata": {
        "id": "ZW6PZiaLYh9d"
      }
    },
    {
      "cell_type": "code",
      "source": [
        "class TehaiDataset(torch.utils.data.Dataset):\n",
        "  def __init__(self, input_df):\n",
        "    self.haipai_list = input_df[\"haipai_hai_id\"].tolist()\n",
        "    self.agari_list = input_df[\"agari_hai_id\"].tolist()\n",
        "\n",
        "  def __len__(self):\n",
        "    return len(self.haipai_list)\n",
        "\n",
        "  def __getitem__(self, index):\n",
        "    haipai, agari = self.pull_item(index)\n",
        "    return haipai, agari\n",
        "\n",
        "  def tehai_2d(self, tehai):\n",
        "    c = collections.Counter(tehai)\n",
        "    tehai_ar = np.zeros(4*9*4)\n",
        "    for i in c.items():\n",
        "      hai_id = i[0] # 牌の種類 0index\n",
        "      hai_times = i[1] # 枚数\n",
        "      hai_id_list = [hai_id*4+i for i in range(hai_times)]\n",
        "      for j in hai_id_list:\n",
        "        tehai_ar[j] = 1\n",
        "    tehai_m = tehai_ar[0:9*1*4].copy().reshape([-1, 4]) # 4, 9\n",
        "    tehai_p = tehai_ar[9*1*4:9*2*4].copy().reshape([-1, 4])\n",
        "    tehai_s = tehai_ar[9*2*4:9*3*4].copy().reshape([-1, 4])\n",
        "    tehai_z = tehai_ar[9*3*4:].copy().reshape([-1, 4])\n",
        "    tehai_ar = np.concatenate([tehai_m, tehai_p, tehai_s, tehai_z], 1)# 16. 9\n",
        "\n",
        "    tehai_ar =  np.concatenate([tehai_ar, np.zeros((16-9)*16).reshape([-1, 16])], 0)# 16, 16\n",
        "\n",
        "    return tehai_ar # チャンネル数、枚数、牌\n",
        "\n",
        "  def pull_item(self, index):\n",
        "    haipai = self.haipai_list[index]\n",
        "    agari = self.agari_list[index]\n",
        "\n",
        "    haipai_all = torch.tensor(np.array([self.tehai_2d(haipai)]), dtype=torch.float32)\n",
        "    agari_all = torch.tensor(np.array([self.tehai_2d(agari)]), dtype=torch.float32)\n",
        "\n",
        "    return haipai_all, agari_all"
      ],
      "metadata": {
        "id": "Nr8wRI5M4R9U"
      },
      "execution_count": 37,
      "outputs": []
    },
    {
      "cell_type": "code",
      "source": [
        "train_size = 0.7\n",
        "train_df, test_df = train_test_split(input_df, train_size=train_size)\n",
        "\n",
        "# データセットオブジェクトの作成\n",
        "dataset_train = TehaiDataset(train_df)\n",
        "dataset_test = TehaiDataset(test_df)\n",
        "\n",
        "# データローダーオブジェクトの作成\n",
        "batch_size = 512\n",
        "\n",
        "train_dataloader = torch.utils.data.DataLoader(dataset_train, batch_size=batch_size,\n",
        "                                              shuffle=True, num_workers=workers, pin_memory=True, drop_last=True)\n",
        "test_dataloader = torch.utils.data.DataLoader(dataset_test, batch_size=batch_size,\n",
        "                                              num_workers=workers, pin_memory=True)"
      ],
      "metadata": {
        "id": "4M8rpznRiNpg"
      },
      "execution_count": 39,
      "outputs": []
    },
    {
      "cell_type": "markdown",
      "metadata": {
        "id": "mUDZmThlDXKd"
      },
      "source": [
        "# モデル（生成）"
      ]
    },
    {
      "cell_type": "markdown",
      "source": [
        "## ハイパラ"
      ],
      "metadata": {
        "id": "I8V6QsOQ2TaW"
      }
    },
    {
      "cell_type": "code",
      "source": [
        "# 訓練中のバッチサイズ\n",
        "batch_size = 512\n",
        "\n",
        "# 訓練エポック数\n",
        "num_epochs = 30\n",
        "\n",
        "# オプティマイザの学習率（Isola et al. 2018では0.002）\n",
        "lr_G = 0.002\n",
        "lr_D = 0.002\n",
        "\n",
        "# オプティマイザ：Adamのハイパーパラメータ Beta1の値（Isola et al. 2018では0.5）\n",
        "beta1 = 0.5"
      ],
      "metadata": {
        "id": "n3D9rmHH2TBO"
      },
      "execution_count": 40,
      "outputs": []
    },
    {
      "cell_type": "markdown",
      "metadata": {
        "id": "IGfIXjI-e1_N"
      },
      "source": [
        "## 生成器"
      ]
    },
    {
      "cell_type": "code",
      "metadata": {
        "id": "w2NQS-mFDXKd"
      },
      "source": [
        "class Generator(nn.Module):\n",
        "    def __init__(self):\n",
        "        super().__init__()\n",
        "        self.enc1 = self.conv_bn_relu(in_ch=1, out_ch=16, kernel_size=5)\n",
        "        self.enc2 = self.conv_bn_relu(16, 32, kernel_size=3, pool_kernel=4)\n",
        "        self.enc3 = self.conv_bn_relu(32, 64, kernel_size=3, pool_kernel=2)\n",
        "        \n",
        "        self.dec1 = self.conv_bn_relu(64, 32, kernel_size=3, pool_kernel=-2)\n",
        "        self.dec2 = self.conv_bn_relu(32 + 32, 16, kernel_size=3, pool_kernel=-4)\n",
        "        self.dec3 = nn.Sequential(\n",
        "            nn.Conv2d(16 + 16, 1, kernel_size=5, padding=2),\n",
        "            nn.Tanh()\n",
        "        )\n",
        "\n",
        "    def conv_bn_relu(self, in_ch, out_ch, kernel_size=3, pool_kernel=None):\n",
        "        layers = []\n",
        "        if pool_kernel is not None:\n",
        "            if pool_kernel > 0:\n",
        "                layers.append(nn.AvgPool2d(pool_kernel))\n",
        "            elif pool_kernel < 0:\n",
        "                layers.append(nn.UpsamplingNearest2d(scale_factor=-pool_kernel))\n",
        "        layers.append(nn.Conv2d(in_ch, out_ch, kernel_size, padding=(kernel_size - 1) // 2))\n",
        "        layers.append(nn.BatchNorm2d(out_ch))\n",
        "        layers.append(nn.ReLU(inplace=True))\n",
        "        return nn.Sequential(*layers)\n",
        "\n",
        "    def forward(self, x):\n",
        "        x1 = self.enc1(x)\n",
        "        x2 = self.enc2(x1)\n",
        "        x3 = self.enc3(x2)\n",
        "        out = self.dec1(x3)\n",
        "        out = self.dec2(torch.cat([out, x2], dim=1))\n",
        "        out = self.dec3(torch.cat([out, x1], dim=1))\n",
        "        return out\n",
        "\n",
        "# 生成器オブジェクトを作成する\n",
        "model_G = Generator().to(device)"
      ],
      "execution_count": 41,
      "outputs": []
    },
    {
      "cell_type": "markdown",
      "metadata": {
        "id": "UlDm4c8UDXKd"
      },
      "source": [
        "## 識別器"
      ]
    },
    {
      "cell_type": "code",
      "metadata": {
        "id": "4fiHJY7RDXKd"
      },
      "source": [
        "class Discriminator(nn.Module):\n",
        "    def __init__(self):\n",
        "        super().__init__()\n",
        "        self.conv1 = self.conv_bn_relu(1, 16, kernel_size=5, reps=1)\n",
        "        self.conv2 = self.conv_bn_relu(16, 32, pool_kernel=4)\n",
        "        self.conv3 = self.conv_bn_relu(32, 64, pool_kernel=2)\n",
        "        self.out_patch = nn.Conv2d(64, 1, kernel_size=1)\n",
        "\n",
        "    def conv_bn_relu(self, in_ch, out_ch, kernel_size=3, pool_kernel=None, reps=2):\n",
        "        layers = []\n",
        "        for i in range(reps):\n",
        "            if i == 0 and pool_kernel is not None:\n",
        "                layers.append(nn.AvgPool2d(pool_kernel))\n",
        "            layers.append(nn.Conv2d(in_ch if i == 0 else out_ch,\n",
        "                                    out_ch, kernel_size, padding=(kernel_size - 1) // 2))\n",
        "            layers.append(nn.BatchNorm2d(out_ch))\n",
        "            layers.append(nn.LeakyReLU(0.2, inplace=True))\n",
        "        return nn.Sequential(*layers)\n",
        "\n",
        "    def forward(self, x):\n",
        "        out = self.conv1(x)\n",
        "        out = self.conv2(out)\n",
        "        out = self.conv3(out)\n",
        "        return self.out_patch(out)\n",
        "\n",
        "# 生成器オブジェクトを作成する\n",
        "model_D = Discriminator().to(device)"
      ],
      "execution_count": 42,
      "outputs": []
    },
    {
      "cell_type": "markdown",
      "metadata": {
        "id": "TnjGA_TGDXKd"
      },
      "source": [
        "## 損失関数とオプティマイザー"
      ]
    },
    {
      "cell_type": "code",
      "metadata": {
        "id": "5dargQr5DXKd"
      },
      "source": [
        "bce_loss = nn.BCEWithLogitsLoss()\n",
        "mae_loss = nn.L1Loss()\n",
        "\n",
        "# GとDの両方にオプティマイザ：Adamを設定する\n",
        "params_D = optim.Adam(model_D.parameters(), lr=lr_D, betas=(beta1, 0.999))\n",
        "params_G = optim.Adam(model_G.parameters(), lr=lr_G, betas=(beta1, 0.999))"
      ],
      "execution_count": 43,
      "outputs": []
    },
    {
      "cell_type": "markdown",
      "metadata": {
        "id": "HNZ1x7VMiO8B"
      },
      "source": [
        "## 訓練"
      ]
    },
    {
      "cell_type": "code",
      "metadata": {
        "id": "STVNkTXqDXKd"
      },
      "source": [
        "# 訓練のループ  \n",
        "def train():\n",
        "    # モデル\n",
        "    torch.backends.cudnn.benchmark = True\n",
        "\n",
        "    # ロスを計算するためのラベル変数 (PatchGAN)\n",
        "    ones = torch.ones(512, 1, 2, 2).to(device)\n",
        "    zeros = torch.zeros(512, 1, 2, 2).to(device)\n",
        "\n",
        "    # エラー推移\n",
        "    result = {}\n",
        "    result[\"log_loss_G_sum\"] = []\n",
        "    result[\"log_loss_G_bce\"] = []\n",
        "    result[\"log_loss_G_mae\"] = []\n",
        "    result[\"log_loss_D\"] = []\n",
        "\n",
        "    # 訓練\n",
        "    print(\"Starting Training Loop...\")\n",
        "\n",
        "    # 各エポックについて\n",
        "    for epoch in range(num_epochs):\n",
        "        log_loss_G_sum, log_loss_G_bce, log_loss_G_mae, log_loss_D = [], [], [], []\n",
        "        \n",
        "        # dataloader内の各バッチについて\n",
        "        for agari, haipai in tqdm(train_dataloader):\n",
        "            batch_len = len(agari)\n",
        "            agari, haipai = agari.to(device), haipai.to(device)\n",
        "\n",
        "            # Gの訓練\n",
        "            # 偽のカラー画像を作成\n",
        "            fake_agari = model_G(haipai)\n",
        "\n",
        "            # 偽画像を一時保存\n",
        "            fake_agari_tensor = fake_agari.detach()\n",
        "\n",
        "            # 偽画像を本物と騙せるようにロスを計算\n",
        "            LAMBDA = 100.0 # BCEとMAEの係数\n",
        "            out = model_D(fake_agari_tensor)\n",
        "            loss_G_bce = bce_loss(out, ones[:batch_len])\n",
        "            loss_G_mae = LAMBDA * mae_loss(fake_agari, agari)\n",
        "            loss_G_sum = loss_G_bce + loss_G_mae\n",
        "\n",
        "            log_loss_G_bce.append(loss_G_bce.item())\n",
        "            log_loss_G_mae.append(loss_G_mae.item())\n",
        "            log_loss_G_sum.append(loss_G_sum.item())\n",
        "\n",
        "            # 微分計算・重み更新\n",
        "            params_D.zero_grad()\n",
        "            params_G.zero_grad()\n",
        "            loss_G_sum.backward()\n",
        "            params_G.step()\n",
        "\n",
        "            # Discriminatoの訓練\n",
        "            # 本物のカラー画像を本物と識別できるようにロスを計算\n",
        "            real_out = model_D(agari)\n",
        "            loss_D_real = bce_loss(real_out, ones[:batch_len])\n",
        "\n",
        "            # 偽の画像を偽と識別できるようにロスを計算\n",
        "            fake_out = model_D(fake_agari_tensor)\n",
        "            loss_D_fake = bce_loss(fake_out, zeros[:batch_len])\n",
        "\n",
        "            # 実画像と偽画像のロスを合計\n",
        "            loss_D = loss_D_real + loss_D_fake\n",
        "            log_loss_D.append(loss_D.item())\n",
        "\n",
        "            # 微分計算・重み更新\n",
        "            params_D.zero_grad()\n",
        "            params_G.zero_grad()\n",
        "            loss_D.backward()\n",
        "            params_D.step()\n",
        "\n",
        "        result[\"log_loss_G_sum\"].append(statistics.mean(log_loss_G_sum))\n",
        "        result[\"log_loss_G_bce\"].append(statistics.mean(log_loss_G_bce))\n",
        "        result[\"log_loss_G_mae\"].append(statistics.mean(log_loss_G_mae))\n",
        "        result[\"log_loss_D\"].append(statistics.mean(log_loss_D))\n",
        "        print(f\"epoch {epoch} \" +\n",
        "              f\"log_loss_G_sum = {result['log_loss_G_sum'][-1]} \" +\n",
        "              f\"({result['log_loss_G_bce'][-1]}, {result['log_loss_G_mae'][-1]}) \" +\n",
        "              f\"log_loss_D = {result['log_loss_D'][-1]}\")\n",
        "\n",
        "        # 画像を保存\n",
        "        if not os.path.exists(\"mahjong_gan\"):\n",
        "            os.mkdir(\"mahjong_gan\")\n",
        "        # 生成画像を保存\n",
        "        torchvision.utils.save_image(fake_agari_tensor[:min(batch_len, 100)],\n",
        "                                f\"mahjong_gan/fake_epoch_{epoch:03}.png\")\n",
        "        torchvision.utils.save_image(agari[:min(batch_len, 100)],\n",
        "                                f\"mahjong_gan/real_epoch_{epoch:03}.png\")\n",
        "\n",
        "        # モデルの保存\n",
        "        if not os.path.exists(\"mahjong_gan/models\"):\n",
        "            os.mkdir(\"mahjong_gan/models\")\n",
        "        if epoch % 10 == 0 or epoch == 199:\n",
        "            torch.save(model_G.state_dict(), f\"mahjong_gan/models/gen_{epoch:03}.pytorch\")                        \n",
        "            torch.save(model_D.state_dict(), f\"mahjong_gan/models/dis_{epoch:03}.pytorch\")                        \n",
        "        \n",
        "    # ログの保存\n",
        "    with open(\"mahjong_gan/logs.pkl\", \"wb\") as fp:\n",
        "        pickle.dump(result, fp)\n",
        "\n",
        "    return result"
      ],
      "execution_count": 44,
      "outputs": []
    },
    {
      "cell_type": "code",
      "source": [
        "result = train()"
      ],
      "metadata": {
        "id": "axQC3YuGzjgI",
        "colab": {
          "base_uri": "https://localhost:8080/"
        },
        "outputId": "2aed3f6f-9008-4ae7-ab2e-9012fa17ed23"
      },
      "execution_count": 45,
      "outputs": [
        {
          "output_type": "stream",
          "name": "stdout",
          "text": [
            "Starting Training Loop...\n"
          ]
        },
        {
          "output_type": "stream",
          "name": "stderr",
          "text": [
            "100%|██████████| 368/368 [00:21<00:00, 17.27it/s]\n"
          ]
        },
        {
          "output_type": "stream",
          "name": "stdout",
          "text": [
            "epoch 0 log_loss_G_sum = 10.457393613846406 (2.8782882671803236, 7.579105338324672) log_loss_D = 0.4285429980929779\n"
          ]
        },
        {
          "output_type": "stream",
          "name": "stderr",
          "text": [
            "100%|██████████| 368/368 [00:20<00:00, 18.02it/s]\n"
          ]
        },
        {
          "output_type": "stream",
          "name": "stdout",
          "text": [
            "epoch 1 log_loss_G_sum = 8.853249496739844 (3.78888725011569, 5.064362251240274) log_loss_D = 0.10461140067174869\n"
          ]
        },
        {
          "output_type": "stream",
          "name": "stderr",
          "text": [
            "100%|██████████| 368/368 [00:20<00:00, 17.92it/s]\n"
          ]
        },
        {
          "output_type": "stream",
          "name": "stdout",
          "text": [
            "epoch 2 log_loss_G_sum = 9.581589737664098 (5.051342381083447, 4.530247361763664) log_loss_D = 0.012279993710209332\n"
          ]
        },
        {
          "output_type": "stream",
          "name": "stderr",
          "text": [
            "100%|██████████| 368/368 [00:20<00:00, 17.81it/s]\n"
          ]
        },
        {
          "output_type": "stream",
          "name": "stdout",
          "text": [
            "epoch 3 log_loss_G_sum = 9.950785504735034 (5.691912692526112, 4.25887277851934) log_loss_D = 0.0061969658329516005\n"
          ]
        },
        {
          "output_type": "stream",
          "name": "stderr",
          "text": [
            "100%|██████████| 368/368 [00:20<00:00, 17.92it/s]\n"
          ]
        },
        {
          "output_type": "stream",
          "name": "stdout",
          "text": [
            "epoch 4 log_loss_G_sum = 7.952980114066082 (3.8255854490334573, 4.127394697588423) log_loss_D = 0.4159707532583169\n"
          ]
        },
        {
          "output_type": "stream",
          "name": "stderr",
          "text": [
            "100%|██████████| 368/368 [00:20<00:00, 17.72it/s]\n"
          ]
        },
        {
          "output_type": "stream",
          "name": "stdout",
          "text": [
            "epoch 5 log_loss_G_sum = 9.752732422040856 (5.754567343255748, 3.998165070362713) log_loss_D = 0.006811967320770592\n"
          ]
        },
        {
          "output_type": "stream",
          "name": "stderr",
          "text": [
            "100%|██████████| 368/368 [00:20<00:00, 17.90it/s]\n"
          ]
        },
        {
          "output_type": "stream",
          "name": "stdout",
          "text": [
            "epoch 6 log_loss_G_sum = 10.163342747999275 (6.223979644153429, 3.939363135591797) log_loss_D = 0.003937960043676076\n"
          ]
        },
        {
          "output_type": "stream",
          "name": "stderr",
          "text": [
            "100%|██████████| 368/368 [00:20<00:00, 17.91it/s]\n"
          ]
        },
        {
          "output_type": "stream",
          "name": "stdout",
          "text": [
            "epoch 7 log_loss_G_sum = 8.591656753550405 (4.694164049730676, 3.8974926879872447) log_loss_D = 0.1596704894846366\n"
          ]
        },
        {
          "output_type": "stream",
          "name": "stderr",
          "text": [
            "100%|██████████| 368/368 [00:20<00:00, 17.70it/s]\n"
          ]
        },
        {
          "output_type": "stream",
          "name": "stdout",
          "text": [
            "epoch 8 log_loss_G_sum = 9.96640568194182 (6.0938907861709595, 3.8725148912357246) log_loss_D = 0.005080450413515791\n"
          ]
        },
        {
          "output_type": "stream",
          "name": "stderr",
          "text": [
            "100%|██████████| 368/368 [00:20<00:00, 18.02it/s]\n"
          ]
        },
        {
          "output_type": "stream",
          "name": "stdout",
          "text": [
            "epoch 9 log_loss_G_sum = 10.519278601459835 (6.671791962955309, 3.847486640448156) log_loss_D = 0.0026589572165824434\n"
          ]
        },
        {
          "output_type": "stream",
          "name": "stderr",
          "text": [
            "100%|██████████| 368/368 [00:20<00:00, 17.95it/s]\n"
          ]
        },
        {
          "output_type": "stream",
          "name": "stdout",
          "text": [
            "epoch 10 log_loss_G_sum = 10.907805292502694 (7.080479132092518, 3.8273261733677075) log_loss_D = 0.0017090444652358597\n"
          ]
        },
        {
          "output_type": "stream",
          "name": "stderr",
          "text": [
            "100%|██████████| 368/368 [00:20<00:00, 18.14it/s]\n"
          ]
        },
        {
          "output_type": "stream",
          "name": "stdout",
          "text": [
            "epoch 11 log_loss_G_sum = 11.207262601541435 (7.396471352680869, 3.8107912644096045) log_loss_D = 0.0012136592533510259\n"
          ]
        },
        {
          "output_type": "stream",
          "name": "stderr",
          "text": [
            "100%|██████████| 368/368 [00:20<00:00, 17.81it/s]\n"
          ]
        },
        {
          "output_type": "stream",
          "name": "stdout",
          "text": [
            "epoch 12 log_loss_G_sum = 11.46947403576063 (7.673680454492569, 3.7957935709020365) log_loss_D = 0.0008986196396859748\n"
          ]
        },
        {
          "output_type": "stream",
          "name": "stderr",
          "text": [
            "100%|██████████| 368/368 [00:20<00:00, 18.07it/s]\n"
          ]
        },
        {
          "output_type": "stream",
          "name": "stdout",
          "text": [
            "epoch 13 log_loss_G_sum = 11.700604353262031 (7.919462941263033, 3.781141424956529) log_loss_D = 0.0006914028099740592\n"
          ]
        },
        {
          "output_type": "stream",
          "name": "stderr",
          "text": [
            "100%|██████████| 368/368 [00:20<00:00, 17.79it/s]\n"
          ]
        },
        {
          "output_type": "stream",
          "name": "stdout",
          "text": [
            "epoch 14 log_loss_G_sum = 11.942988880302595 (8.152432063351506, 3.7905568130638287) log_loss_D = 0.0005394346661215304\n"
          ]
        },
        {
          "output_type": "stream",
          "name": "stderr",
          "text": [
            "100%|██████████| 368/368 [00:20<00:00, 17.95it/s]\n"
          ]
        },
        {
          "output_type": "stream",
          "name": "stdout",
          "text": [
            "epoch 15 log_loss_G_sum = 12.165727268094601 (8.371169183565224, 3.7945580728676007) log_loss_D = 0.000429058752674989\n"
          ]
        },
        {
          "output_type": "stream",
          "name": "stderr",
          "text": [
            "100%|██████████| 368/368 [00:20<00:00, 18.00it/s]\n"
          ]
        },
        {
          "output_type": "stream",
          "name": "stdout",
          "text": [
            "epoch 16 log_loss_G_sum = 12.368890669034874 (8.586435465709023, 3.7824551858331845) log_loss_D = 0.00034363281124767485\n"
          ]
        },
        {
          "output_type": "stream",
          "name": "stderr",
          "text": [
            "100%|██████████| 368/368 [00:20<00:00, 17.89it/s]\n"
          ]
        },
        {
          "output_type": "stream",
          "name": "stdout",
          "text": [
            "epoch 17 log_loss_G_sum = 12.589513211146645 (8.804737832235253, 3.7847753892774167) log_loss_D = 0.00027473939537784366\n"
          ]
        },
        {
          "output_type": "stream",
          "name": "stderr",
          "text": [
            "100%|██████████| 368/368 [00:20<00:00, 17.82it/s]\n"
          ]
        },
        {
          "output_type": "stream",
          "name": "stdout",
          "text": [
            "epoch 18 log_loss_G_sum = 12.785363326901974 (9.007351743138354, 3.778011587003003) log_loss_D = 0.00022355417782502786\n"
          ]
        },
        {
          "output_type": "stream",
          "name": "stderr",
          "text": [
            "100%|██████████| 368/368 [00:20<00:00, 18.04it/s]\n"
          ]
        },
        {
          "output_type": "stream",
          "name": "stdout",
          "text": [
            "epoch 19 log_loss_G_sum = 12.985596726769986 (9.217700035675712, 3.7678966768409894) log_loss_D = 0.0001808229379726665\n"
          ]
        },
        {
          "output_type": "stream",
          "name": "stderr",
          "text": [
            "100%|██████████| 368/368 [00:20<00:00, 17.82it/s]\n"
          ]
        },
        {
          "output_type": "stream",
          "name": "stdout",
          "text": [
            "epoch 20 log_loss_G_sum = 13.192194876463518 (9.416677599367889, 3.775517276447752) log_loss_D = 0.0001478456733425644\n"
          ]
        },
        {
          "output_type": "stream",
          "name": "stderr",
          "text": [
            "100%|██████████| 368/368 [00:20<00:00, 17.94it/s]\n"
          ]
        },
        {
          "output_type": "stream",
          "name": "stdout",
          "text": [
            "epoch 21 log_loss_G_sum = 13.396227712216584 (9.621307411919469, 3.7749202970577325) log_loss_D = 0.0001201651730298181\n"
          ]
        },
        {
          "output_type": "stream",
          "name": "stderr",
          "text": [
            "100%|██████████| 368/368 [00:20<00:00, 17.96it/s]\n"
          ]
        },
        {
          "output_type": "stream",
          "name": "stdout",
          "text": [
            "epoch 22 log_loss_G_sum = 13.589360053124635 (9.824477475622427, 3.7648825904597407) log_loss_D = 9.833941310163304e-05\n"
          ]
        },
        {
          "output_type": "stream",
          "name": "stderr",
          "text": [
            "100%|██████████| 368/368 [00:20<00:00, 17.86it/s]\n"
          ]
        },
        {
          "output_type": "stream",
          "name": "stdout",
          "text": [
            "epoch 23 log_loss_G_sum = 13.784453316875126 (10.019546057866966, 3.7649072570645292) log_loss_D = 8.0364209442569e-05\n"
          ]
        },
        {
          "output_type": "stream",
          "name": "stderr",
          "text": [
            "100%|██████████| 368/368 [00:20<00:00, 17.77it/s]\n"
          ]
        },
        {
          "output_type": "stream",
          "name": "stdout",
          "text": [
            "epoch 24 log_loss_G_sum = 13.985242255356 (10.226985957311546, 3.7582562818475393) log_loss_D = 6.521634641696595e-05\n"
          ]
        },
        {
          "output_type": "stream",
          "name": "stderr",
          "text": [
            "100%|██████████| 368/368 [00:20<00:00, 18.05it/s]\n"
          ]
        },
        {
          "output_type": "stream",
          "name": "stdout",
          "text": [
            "epoch 25 log_loss_G_sum = 14.179531024849933 (10.424804140692173, 3.754726905537688) log_loss_D = 5.350422150948599e-05\n"
          ]
        },
        {
          "output_type": "stream",
          "name": "stderr",
          "text": [
            "100%|██████████| 368/368 [00:20<00:00, 17.80it/s]\n"
          ]
        },
        {
          "output_type": "stream",
          "name": "stdout",
          "text": [
            "epoch 26 log_loss_G_sum = 14.368736062360847 (10.611812695212986, 3.7569233541903286) log_loss_D = 4.4673137094635067e-05\n"
          ]
        },
        {
          "output_type": "stream",
          "name": "stderr",
          "text": [
            "100%|██████████| 368/368 [00:20<00:00, 17.91it/s]\n"
          ]
        },
        {
          "output_type": "stream",
          "name": "stdout",
          "text": [
            "epoch 27 log_loss_G_sum = 14.598363687162815 (10.842251158278922, 3.756112518517867) log_loss_D = 3.5414055871471014e-05\n"
          ]
        },
        {
          "output_type": "stream",
          "name": "stderr",
          "text": [
            "100%|██████████| 368/368 [00:20<00:00, 17.86it/s]\n"
          ]
        },
        {
          "output_type": "stream",
          "name": "stdout",
          "text": [
            "epoch 28 log_loss_G_sum = 14.79138466067936 (11.038586494715318, 3.752798154950142) log_loss_D = 2.900642403386408e-05\n"
          ]
        },
        {
          "output_type": "stream",
          "name": "stderr",
          "text": [
            "100%|██████████| 368/368 [00:20<00:00, 17.80it/s]"
          ]
        },
        {
          "output_type": "stream",
          "name": "stdout",
          "text": [
            "epoch 29 log_loss_G_sum = 13.223414198212001 (9.475379410159329, 3.7480347843273827) log_loss_D = 0.12387791435097646\n"
          ]
        },
        {
          "output_type": "stream",
          "name": "stderr",
          "text": [
            "\n"
          ]
        }
      ]
    },
    {
      "cell_type": "code",
      "source": [
        "fig = plt.figure(figsize=(20,5))\n",
        "\n",
        "ax1 = fig.add_subplot(1, 2, 1,  title=\"Discriminator Loss During Training\")\n",
        "ax2 = fig.add_subplot(1, 2, 2,  title=\"Generator Loss During Training\")\n",
        "\n",
        "ax1.plot(result[\"log_loss_D\"],label=\"D\")\n",
        "ax1.legend()\n",
        "\n",
        "ax2.plot(result[\"log_loss_G_sum\"],label=\"G_sum\")\n",
        "ax2.plot(result[\"log_loss_G_bce\"],label=\"G_bce\")\n",
        "ax2.plot(result[\"log_loss_G_mae\"],label=\"G_mae (L1loss)\")\n",
        "ax2.legend()"
      ],
      "metadata": {
        "id": "11idCFGTqlIR",
        "colab": {
          "base_uri": "https://localhost:8080/",
          "height": 353
        },
        "outputId": "c09c0ea5-0862-4400-dd45-c333e7fad51f"
      },
      "execution_count": 46,
      "outputs": [
        {
          "output_type": "execute_result",
          "data": {
            "text/plain": [
              "<matplotlib.legend.Legend at 0x7f10e8c28d10>"
            ]
          },
          "metadata": {},
          "execution_count": 46
        },
        {
          "output_type": "display_data",
          "data": {
            "text/plain": [
              "<Figure size 1440x360 with 2 Axes>"
            ],
            "image/png": "[encoded data removed]"
          },
          "metadata": {
            "needs_background": "light"
          }
        }
      ]
    },
    {
      "cell_type": "markdown",
      "source": [
        "## 予測"
      ],
      "metadata": {
        "id": "a7Ejvsio9c1T"
      }
    },
    {
      "cell_type": "markdown",
      "source": [
        "### 可視化"
      ],
      "metadata": {
        "id": "b6SGQd3Q9eB7"
      }
    },
    {
      "cell_type": "code",
      "source": [
        "# 訓練のループ  \n",
        "def test(epoch):\n",
        "    # モデル\n",
        "    torch.backends.cudnn.benchmark = True\n",
        "    fake_agari_list = []\n",
        "\n",
        "    # 訓練\n",
        "    print(\"Starting Testining Loop...\")\n",
        "\n",
        "    # 生成器オブジェクトを作成する\n",
        "    model_G = Generator().to(device)\n",
        "    model_G.load_state_dict(torch.load(f\"mahjong_gan/models/gen_{epoch:03}.pytorch\"))\n",
        "\n",
        "    # dataloader内の各バッチについて\n",
        "    for agari, haipai in tqdm(test_dataloader):\n",
        "        agari, haipai = agari.to(device), haipai.to(device)\n",
        "\n",
        "        # 偽のカラー画像を作成\n",
        "        fake_agari = model_G(haipai)\n",
        "\n",
        "        # 偽画像を一時保存\n",
        "        fake_agari_tensor = fake_agari.detach()\n",
        "        fake_agari_list_batch = list(np.array(fake_agari_tensor.cpu()))\n",
        "        fake_agari_list = fake_agari_list + fake_agari_list_batch\n",
        "\n",
        "    return fake_agari_list"
      ],
      "metadata": {
        "id": "UPPzxbXA-XPI"
      },
      "execution_count": 47,
      "outputs": []
    },
    {
      "cell_type": "code",
      "source": [
        "# モデルのロード\n",
        "epoch = 20\n",
        "fake_agari_list = test(epoch)"
      ],
      "metadata": {
        "id": "JZN74UAMqxIk",
        "colab": {
          "base_uri": "https://localhost:8080/"
        },
        "outputId": "5a46a877-ad88-4715-c38b-5f9f55c0d7d1"
      },
      "execution_count": 48,
      "outputs": [
        {
          "output_type": "stream",
          "name": "stdout",
          "text": [
            "Starting Testining Loop...\n"
          ]
        },
        {
          "output_type": "stream",
          "name": "stderr",
          "text": [
            "100%|██████████| 158/158 [00:08<00:00, 19.07it/s]\n"
          ]
        }
      ]
    },
    {
      "cell_type": "code",
      "source": [
        "for i in range(10):\n",
        "  fig = plt.figure()\n",
        "\n",
        "  real_haipai = dataset_test[i][0].squeeze()\n",
        "  ax1 = fig.add_subplot(1, 3, 1)\n",
        "  ax1.imshow(real_haipai)\n",
        "  ax1.set_title(\"haipai\")\n",
        "\n",
        "  real_agari = dataset_test[i][1].squeeze()\n",
        "  ax2 = fig.add_subplot(1, 3, 2)\n",
        "  ax2.imshow(real_agari)\n",
        "  ax2.set_title(\"agari\")\n",
        "\n",
        "  fake_agari = fake_agari_list[i].squeeze()\n",
        "  ax3 = fig.add_subplot(1, 3, 3)\n",
        "  ax3.imshow(fake_agari)\n",
        "  ax3.set_title(\"fake_agari\")"
      ],
      "metadata": {
        "id": "vOqHnMVOckIy",
        "colab": {
          "base_uri": "https://localhost:8080/",
          "height": 1000
        },
        "outputId": "ed852d0f-0c57-47b4-930e-1ef02d5ad587"
      },
      "execution_count": 49,
      "outputs": [
        {
          "output_type": "display_data",
          "data": {
            "text/plain": [
              "<Figure size 432x288 with 3 Axes>"
            ],
            "image/png": "[encoded data removed]"
          },
          "metadata": {
            "needs_background": "light"
          }
        },
        {
          "output_type": "display_data",
          "data": {
            "text/plain": [
              "<Figure size 432x288 with 3 Axes>"
            ],
            "image/png": "[encoded data removed]"
          },
          "metadata": {
            "needs_background": "light"
          }
        },
        {
          "output_type": "display_data",
          "data": {
            "text/plain": [
              "<Figure size 432x288 with 3 Axes>"
            ],
            "image/png": "[encoded data removed]"
          },
          "metadata": {
            "needs_background": "light"
          }
        },
        {
          "output_type": "display_data",
          "data": {
            "text/plain": [
              "<Figure size 432x288 with 3 Axes>"
            ],
            "image/png": "[encoded data removed]"
          },
          "metadata": {
            "needs_background": "light"
          }
        },
        {
          "output_type": "display_data",
          "data": {
            "text/plain": [
              "<Figure size 432x288 with 3 Axes>"
            ],
            "image/png": "[encoded data removed]"
          },
          "metadata": {
            "needs_background": "light"
          }
        },
        {
          "output_type": "display_data",
          "data": {
            "text/plain": [
              "<Figure size 432x288 with 3 Axes>"
            ],
            "image/png": "[encoded data removed]"
          },
          "metadata": {
            "needs_background": "light"
          }
        },
        {
          "output_type": "display_data",
          "data": {
            "text/plain": [
              "<Figure size 432x288 with 3 Axes>"
            ],
            "image/png": "[encoded data removed]"
          },
          "metadata": {
            "needs_background": "light"
          }
        },
        {
          "output_type": "display_data",
          "data": {
            "text/plain": [
              "<Figure size 432x288 with 3 Axes>"
            ],
            "image/png": "[encoded data removed]"
          },
          "metadata": {
            "needs_background": "light"
          }
        },
        {
          "output_type": "display_data",
          "data": {
            "text/plain": [
              "<Figure size 432x288 with 3 Axes>"
            ],
            "image/png": "[encoded data removed]"
          },
          "metadata": {
            "needs_background": "light"
          }
        },
        {
          "output_type": "display_data",
          "data": {
            "text/plain": [
              "<Figure size 432x288 with 3 Axes>"
            ],
            "image/png": "[encoded data removed]"
          },
          "metadata": {
            "needs_background": "light"
          }
        }
      ]
    },
    {
      "cell_type": "markdown",
      "source": [
        "### テンソルを手牌に戻す"
      ],
      "metadata": {
        "id": "Q6a5QRN6zsII"
      }
    },
    {
      "cell_type": "code",
      "source": [
        "def tensor_to_id(fake_agari):\n",
        "  tehai_ar = fake_agari.squeeze()\n",
        "  tehai_m = tehai_ar[0:9, 0:4].reshape(-1)\n",
        "  tehai_p = tehai_ar[0:9, 4:8].reshape(-1)\n",
        "  tehai_s = tehai_ar[0:9, 8:12].reshape(-1)\n",
        "  tehai_z = tehai_ar[0:9, 12:16].reshape(-1)\n",
        "  tehai_ar = np.concatenate([tehai_m, tehai_p, tehai_s, tehai_z])\n",
        "\n",
        "  threshold = 0.5\n",
        "  fake_agari_id = sorted([i for i, j in enumerate(tehai_ar) if j >= 0.5])\n",
        "\n",
        "  return fake_agari_id"
      ],
      "metadata": {
        "id": "ziQ7RyEyRD08"
      },
      "execution_count": 50,
      "outputs": []
    },
    {
      "cell_type": "code",
      "source": [
        "test_df[\"fake_agari_id\"] = [tensor_to_id(i) for i in fake_agari_list]\n",
        "test_df[\"fake_agari_hai_id\"] = test_df.fake_agari_id.apply(lambda x: sorted([id_int >> 2 for id_int in x]))\n",
        "test_df[\"fake_agari_str\"] = test_df.fake_agari_id.apply(lambda x: [hai_convert_str(i) for i in x])"
      ],
      "metadata": {
        "id": "2pMGqeh4aW_K"
      },
      "execution_count": 51,
      "outputs": []
    },
    {
      "cell_type": "code",
      "source": [
        "test_df.head()"
      ],
      "metadata": {
        "id": "BMAkAZjcXbHO",
        "colab": {
          "base_uri": "https://localhost:8080/",
          "height": 458
        },
        "outputId": "8ac770b6-41b7-4642-fb9d-8f2c6cfbf6bb"
      },
      "execution_count": 52,
      "outputs": [
        {
          "output_type": "execute_result",
          "data": {
            "text/plain": [
              "                                                      haipai_id  \\\n",
              "111907  [2, 22, 24, 30, 33, 35, 41, 50, 92, 105, 116, 134, 135]   \n",
              "206923    [5, 27, 37, 40, 43, 55, 64, 72, 84, 88, 96, 106, 123]   \n",
              "194744     [7, 9, 11, 16, 18, 22, 35, 37, 39, 42, 54, 117, 128]   \n",
              "256082   [15, 27, 28, 35, 44, 54, 63, 69, 78, 80, 99, 133, 135]   \n",
              "202581  [14, 21, 24, 27, 36, 53, 71, 83, 85, 95, 101, 109, 122]   \n",
              "\n",
              "                                     haipai_str  \\\n",
              "111907  [一, 六, 七, 八, 九, 九, ②, ④, 6, 9, 西, 中, 中]   \n",
              "206923  [二, 七, ①, ②, ②, ⑤, ⑧, 1, 4, 5, 7, 9, 北]   \n",
              "194744  [二, 三, 三, 五, 五, 六, 九, ①, ①, ②, ⑤, 西, 發]   \n",
              "256082  [四, 七, 八, 九, ③, ⑤, ⑦, ⑨, 2, 3, 7, 中, 中]   \n",
              "202581  [四, 六, 七, 七, ①, ⑤, ⑨, 3, 4, 6, 8, 東, 北]   \n",
              "\n",
              "                                            haipai_hai_id  \\\n",
              "111907     [0, 5, 6, 7, 8, 8, 10, 12, 23, 26, 29, 33, 33]   \n",
              "206923  [1, 6, 9, 10, 10, 13, 16, 18, 21, 22, 24, 26, 30]   \n",
              "194744        [1, 2, 2, 4, 4, 5, 8, 9, 9, 10, 13, 29, 32]   \n",
              "256082   [3, 6, 7, 8, 11, 13, 15, 17, 19, 20, 24, 33, 33]   \n",
              "202581    [3, 5, 6, 6, 9, 13, 17, 20, 21, 23, 25, 27, 30]   \n",
              "\n",
              "                                                          agari_id  \\\n",
              "111907   [2, 6, 11, 22, 24, 30, 32, 33, 35, 92, 94, 133, 134, 135]   \n",
              "206923     [5, 9, 15, 40, 41, 43, 52, 55, 84, 88, 93, 94, 96, 101]   \n",
              "194744       [2, 7, 9, 13, 16, 22, 37, 41, 42, 43, 45, 72, 78, 81]   \n",
              "256082  [27, 28, 35, 37, 42, 44, 54, 56, 63, 78, 80, 85, 133, 135]   \n",
              "202581    [12, 14, 21, 24, 29, 53, 54, 55, 83, 85, 88, 89, 95, 99]   \n",
              "\n",
              "                                         agari_str  \\\n",
              "111907  [一, 二, 三, 六, 七, 八, 九, 九, 九, 6, 6, 中, 中, 中]   \n",
              "206923  [二, 三, 四, ②, ②, ②, ⑤, ⑤, 4, 5, 6, 6, 7, 8]   \n",
              "194744  [一, 二, 三, 四, 五, 六, ①, ②, ②, ②, ③, 1, 2, 3]   \n",
              "256082  [七, 八, 九, ①, ②, ③, ⑤, ⑥, ⑦, 2, 3, 4, 中, 中]   \n",
              "202581  [四, 四, 六, 七, 八, ⑤, ⑤, ⑤, 3, 4, 5, 5, 6, 7]   \n",
              "\n",
              "                                                 agari_hai_id  \\\n",
              "111907        [0, 1, 2, 5, 6, 7, 8, 8, 8, 23, 23, 33, 33, 33]   \n",
              "206923  [1, 2, 3, 10, 10, 10, 13, 13, 21, 22, 23, 23, 24, 25]   \n",
              "194744      [0, 1, 2, 3, 4, 5, 9, 10, 10, 10, 11, 18, 19, 20]   \n",
              "256082   [6, 7, 8, 9, 10, 11, 13, 14, 15, 19, 20, 21, 33, 33]   \n",
              "202581    [3, 3, 5, 6, 7, 13, 13, 13, 20, 21, 22, 22, 23, 24]   \n",
              "\n",
              "                                                fake_agari_id  \\\n",
              "111907            [0, 4, 8, 20, 24, 28, 32, 33, 92, 132, 133]   \n",
              "206923            [4, 8, 12, 40, 41, 52, 84, 88, 92, 96, 100]   \n",
              "194744      [0, 4, 8, 12, 16, 20, 36, 40, 41, 44, 72, 76, 80]   \n",
              "256082  [24, 28, 32, 36, 40, 44, 52, 56, 60, 76, 80, 84, 132]   \n",
              "202581           [12, 20, 24, 28, 52, 53, 80, 84, 88, 92, 96]   \n",
              "\n",
              "                                       fake_agari_hai_id  \\\n",
              "111907              [0, 1, 2, 5, 6, 7, 8, 8, 23, 33, 33]   \n",
              "206923         [1, 2, 3, 10, 10, 13, 21, 22, 23, 24, 25]   \n",
              "194744     [0, 1, 2, 3, 4, 5, 9, 10, 10, 11, 18, 19, 20]   \n",
              "256082  [6, 7, 8, 9, 10, 11, 13, 14, 15, 19, 20, 21, 33]   \n",
              "202581          [3, 5, 6, 7, 13, 13, 20, 21, 22, 23, 24]   \n",
              "\n",
              "                                 fake_agari_str  \n",
              "111907        [一, 二, 三, 六, 七, 八, 九, 九, 6, 中, 中]  \n",
              "206923        [二, 三, 四, ②, ②, ⑤, 4, 5, 6, 7, 8]  \n",
              "194744  [一, 二, 三, 四, 五, 六, ①, ②, ②, ③, 1, 2, 3]  \n",
              "256082  [七, 八, 九, ①, ②, ③, ⑤, ⑥, ⑦, 2, 3, 4, 中]  \n",
              "202581        [四, 六, 七, 八, ⑤, ⑤, 3, 4, 5, 6, 7]  "
            ],
            "text/html": [
              "\n",
              "  <div id=\"df-d67b4c28-6545-4549-b15e-9a4069e604d6\">\n",
              "    <div class=\"colab-df-container\">\n",
              "      <div>\n",
              "<style scoped>\n",
              "    .dataframe tbody tr th:only-of-type {\n",
              "        vertical-align: middle;\n",
              "    }\n",
              "\n",
              "    .dataframe tbody tr th {\n",
              "        vertical-align: top;\n",
              "    }\n",
              "\n",
              "    .dataframe thead th {\n",
              "        text-align: right;\n",
              "    }\n",
              "</style>\n",
              "<table border=\"1\" class=\"dataframe\">\n",
              "  <thead>\n",
              "    <tr style=\"text-align: right;\">\n",
              "      <th></th>\n",
              "      <th>haipai_id</th>\n",
              "      <th>haipai_str</th>\n",
              "      <th>haipai_hai_id</th>\n",
              "      <th>agari_id</th>\n",
              "      <th>agari_str</th>\n",
              "      <th>agari_hai_id</th>\n",
              "      <th>fake_agari_id</th>\n",
              "      <th>fake_agari_hai_id</th>\n",
              "      <th>fake_agari_str</th>\n",
              "    </tr>\n",
              "  </thead>\n",
              "  <tbody>\n",
              "    <tr>\n",
              "      <th>111907</th>\n",
              "      <td>[2, 22, 24, 30, 33, 35, 41, 50, 92, 105, 116, 134, 135]</td>\n",
              "      <td>[一, 六, 七, 八, 九, 九, ②, ④, 6, 9, 西, 中, 中]</td>\n",
              "      <td>[0, 5, 6, 7, 8, 8, 10, 12, 23, 26, 29, 33, 33]</td>\n",
              "      <td>[2, 6, 11, 22, 24, 30, 32, 33, 35, 92, 94, 133, 134, 135]</td>\n",
              "      <td>[一, 二, 三, 六, 七, 八, 九, 九, 九, 6, 6, 中, 中, 中]</td>\n",
              "      <td>[0, 1, 2, 5, 6, 7, 8, 8, 8, 23, 23, 33, 33, 33]</td>\n",
              "      <td>[0, 4, 8, 20, 24, 28, 32, 33, 92, 132, 133]</td>\n",
              "      <td>[0, 1, 2, 5, 6, 7, 8, 8, 23, 33, 33]</td>\n",
              "      <td>[一, 二, 三, 六, 七, 八, 九, 九, 6, 中, 中]</td>\n",
              "    </tr>\n",
              "    <tr>\n",
              "      <th>206923</th>\n",
              "      <td>[5, 27, 37, 40, 43, 55, 64, 72, 84, 88, 96, 106, 123]</td>\n",
              "      <td>[二, 七, ①, ②, ②, ⑤, ⑧, 1, 4, 5, 7, 9, 北]</td>\n",
              "      <td>[1, 6, 9, 10, 10, 13, 16, 18, 21, 22, 24, 26, 30]</td>\n",
              "      <td>[5, 9, 15, 40, 41, 43, 52, 55, 84, 88, 93, 94, 96, 101]</td>\n",
              "      <td>[二, 三, 四, ②, ②, ②, ⑤, ⑤, 4, 5, 6, 6, 7, 8]</td>\n",
              "      <td>[1, 2, 3, 10, 10, 10, 13, 13, 21, 22, 23, 23, 24, 25]</td>\n",
              "      <td>[4, 8, 12, 40, 41, 52, 84, 88, 92, 96, 100]</td>\n",
              "      <td>[1, 2, 3, 10, 10, 13, 21, 22, 23, 24, 25]</td>\n",
              "      <td>[二, 三, 四, ②, ②, ⑤, 4, 5, 6, 7, 8]</td>\n",
              "    </tr>\n",
              "    <tr>\n",
              "      <th>194744</th>\n",
              "      <td>[7, 9, 11, 16, 18, 22, 35, 37, 39, 42, 54, 117, 128]</td>\n",
              "      <td>[二, 三, 三, 五, 五, 六, 九, ①, ①, ②, ⑤, 西, 發]</td>\n",
              "      <td>[1, 2, 2, 4, 4, 5, 8, 9, 9, 10, 13, 29, 32]</td>\n",
              "      <td>[2, 7, 9, 13, 16, 22, 37, 41, 42, 43, 45, 72, 78, 81]</td>\n",
              "      <td>[一, 二, 三, 四, 五, 六, ①, ②, ②, ②, ③, 1, 2, 3]</td>\n",
              "      <td>[0, 1, 2, 3, 4, 5, 9, 10, 10, 10, 11, 18, 19, 20]</td>\n",
              "      <td>[0, 4, 8, 12, 16, 20, 36, 40, 41, 44, 72, 76, 80]</td>\n",
              "      <td>[0, 1, 2, 3, 4, 5, 9, 10, 10, 11, 18, 19, 20]</td>\n",
              "      <td>[一, 二, 三, 四, 五, 六, ①, ②, ②, ③, 1, 2, 3]</td>\n",
              "    </tr>\n",
              "    <tr>\n",
              "      <th>256082</th>\n",
              "      <td>[15, 27, 28, 35, 44, 54, 63, 69, 78, 80, 99, 133, 135]</td>\n",
              "      <td>[四, 七, 八, 九, ③, ⑤, ⑦, ⑨, 2, 3, 7, 中, 中]</td>\n",
              "      <td>[3, 6, 7, 8, 11, 13, 15, 17, 19, 20, 24, 33, 33]</td>\n",
              "      <td>[27, 28, 35, 37, 42, 44, 54, 56, 63, 78, 80, 85, 133, 135]</td>\n",
              "      <td>[七, 八, 九, ①, ②, ③, ⑤, ⑥, ⑦, 2, 3, 4, 中, 中]</td>\n",
              "      <td>[6, 7, 8, 9, 10, 11, 13, 14, 15, 19, 20, 21, 33, 33]</td>\n",
              "      <td>[24, 28, 32, 36, 40, 44, 52, 56, 60, 76, 80, 84, 132]</td>\n",
              "      <td>[6, 7, 8, 9, 10, 11, 13, 14, 15, 19, 20, 21, 33]</td>\n",
              "      <td>[七, 八, 九, ①, ②, ③, ⑤, ⑥, ⑦, 2, 3, 4, 中]</td>\n",
              "    </tr>\n",
              "    <tr>\n",
              "      <th>202581</th>\n",
              "      <td>[14, 21, 24, 27, 36, 53, 71, 83, 85, 95, 101, 109, 122]</td>\n",
              "      <td>[四, 六, 七, 七, ①, ⑤, ⑨, 3, 4, 6, 8, 東, 北]</td>\n",
              "      <td>[3, 5, 6, 6, 9, 13, 17, 20, 21, 23, 25, 27, 30]</td>\n",
              "      <td>[12, 14, 21, 24, 29, 53, 54, 55, 83, 85, 88, 89, 95, 99]</td>\n",
              "      <td>[四, 四, 六, 七, 八, ⑤, ⑤, ⑤, 3, 4, 5, 5, 6, 7]</td>\n",
              "      <td>[3, 3, 5, 6, 7, 13, 13, 13, 20, 21, 22, 22, 23, 24]</td>\n",
              "      <td>[12, 20, 24, 28, 52, 53, 80, 84, 88, 92, 96]</td>\n",
              "      <td>[3, 5, 6, 7, 13, 13, 20, 21, 22, 23, 24]</td>\n",
              "      <td>[四, 六, 七, 八, ⑤, ⑤, 3, 4, 5, 6, 7]</td>\n",
              "    </tr>\n",
              "  </tbody>\n",
              "</table>\n",
              "</div>\n",
              "      <button class=\"colab-df-convert\" onclick=\"convertToInteractive('df-d67b4c28-6545-4549-b15e-9a4069e604d6')\"\n",
              "              title=\"Convert this dataframe to an interactive table.\"\n",
              "              style=\"display:none;\">\n",
              "        \n",
              "  <svg xmlns=\"http://www.w3.org/2000/svg\" height=\"24px\"viewBox=\"0 0 24 24\"\n",
              "       width=\"24px\">\n",
              "    <path d=\"M0 0h24v24H0V0z\" fill=\"none\"/>\n",
              "    <path d=\"M18.56 5.44l.94 2.06.94-2.06 2.06-.94-2.06-.94-.94-2.06-.94 2.06-2.06.94zm-11 1L8.5 8.5l.94-2.06 2.06-.94-2.06-.94L8.5 2.5l-.94 2.06-2.06.94zm10 10l.94 2.06.94-2.06 2.06-.94-2.06-.94-.94-2.06-.94 2.06-2.06.94z\"/><path d=\"M17.41 7.96l-1.37-1.37c-.4-.4-.92-.59-1.43-.59-.52 0-1.04.2-1.43.59L10.3 9.45l-7.72 7.72c-.78.78-.78 2.05 0 2.83L4 21.41c.39.39.9.59 1.41.59.51 0 1.02-.2 1.41-.59l7.78-7.78 2.81-2.81c.8-.78.8-2.07 0-2.86zM5.41 20L4 18.59l7.72-7.72 1.47 1.35L5.41 20z\"/>\n",
              "  </svg>\n",
              "      </button>\n",
              "      \n",
              "  <style>\n",
              "    .colab-df-container {\n",
              "      display:flex;\n",
              "      flex-wrap:wrap;\n",
              "      gap: 12px;\n",
              "    }\n",
              "\n",
              "    .colab-df-convert {\n",
              "      background-color: #E8F0FE;\n",
              "      border: none;\n",
              "      border-radius: 50%;\n",
              "      cursor: pointer;\n",
              "      display: none;\n",
              "      fill: #1967D2;\n",
              "      height: 32px;\n",
              "      padding: 0 0 0 0;\n",
              "      width: 32px;\n",
              "    }\n",
              "\n",
              "    .colab-df-convert:hover {\n",
              "      background-color: #E2EBFA;\n",
              "      box-shadow: 0px 1px 2px rgba(60, 64, 67, 0.3), 0px 1px 3px 1px rgba(60, 64, 67, 0.15);\n",
              "      fill: #174EA6;\n",
              "    }\n",
              "\n",
              "    [theme=dark] .colab-df-convert {\n",
              "      background-color: #3B4455;\n",
              "      fill: #D2E3FC;\n",
              "    }\n",
              "\n",
              "    [theme=dark] .colab-df-convert:hover {\n",
              "      background-color: #434B5C;\n",
              "      box-shadow: 0px 1px 3px 1px rgba(0, 0, 0, 0.15);\n",
              "      filter: drop-shadow(0px 1px 2px rgba(0, 0, 0, 0.3));\n",
              "      fill: #FFFFFF;\n",
              "    }\n",
              "  </style>\n",
              "\n",
              "      <script>\n",
              "        const buttonEl =\n",
              "          document.querySelector('#df-d67b4c28-6545-4549-b15e-9a4069e604d6 button.colab-df-convert');\n",
              "        buttonEl.style.display =\n",
              "          google.colab.kernel.accessAllowed ? 'block' : 'none';\n",
              "\n",
              "        async function convertToInteractive(key) {\n",
              "          const element = document.querySelector('#df-d67b4c28-6545-4549-b15e-9a4069e604d6');\n",
              "          const dataTable =\n",
              "            await google.colab.kernel.invokeFunction('convertToInteractive',\n",
              "                                                     [key], {});\n",
              "          if (!dataTable) return;\n",
              "\n",
              "          const docLinkHtml = 'Like what you see? Visit the ' +\n",
              "            '<a target=\"_blank\" href=https://colab.research.google.com/notebooks/data_table.ipynb>data table notebook</a>'\n",
              "            + ' to learn more about interactive tables.';\n",
              "          element.innerHTML = '';\n",
              "          dataTable['output_type'] = 'display_data';\n",
              "          await google.colab.output.renderOutput(dataTable, element);\n",
              "          const docLink = document.createElement('div');\n",
              "          docLink.innerHTML = docLinkHtml;\n",
              "          element.appendChild(docLink);\n",
              "        }\n",
              "      </script>\n",
              "    </div>\n",
              "  </div>\n",
              "  "
            ]
          },
          "metadata": {},
          "execution_count": 52
        }
      ]
    },
    {
      "cell_type": "markdown",
      "source": [
        "### accuracyの計算"
      ],
      "metadata": {
        "id": "8pETHnbhsFuq"
      }
    },
    {
      "cell_type": "code",
      "source": [
        "mlb = MultiLabelBinarizer()\n",
        "\n",
        "y_true = mlb.fit_transform(test_df.agari_hai_id)\n",
        "y_pred = mlb.transform(test_df.fake_agari_hai_id)"
      ],
      "metadata": {
        "id": "HIasbqbDh3LR"
      },
      "execution_count": 53,
      "outputs": []
    },
    {
      "cell_type": "code",
      "source": [
        "# macro-F1\n",
        "average = \"macro\"\n",
        "print(\"Precisionの平均：\", precision_score(y_true=y_true, y_pred=y_pred, average=average))\n",
        "print(\"Recallの平均：\", recall_score(y_true=y_true, y_pred=y_pred, average=average))\n",
        "print(\"macro-F1\", f1_score(y_true=y_true, y_pred=y_pred, average=average))"
      ],
      "metadata": {
        "id": "pVNQsWdGcL5S",
        "colab": {
          "base_uri": "https://localhost:8080/"
        },
        "outputId": "2fe56eb2-e937-4137-b9c3-b3b3da9dbc78"
      },
      "execution_count": 56,
      "outputs": [
        {
          "output_type": "stream",
          "name": "stdout",
          "text": [
            "Precisionの平均： 1.0\n",
            "Recallの平均： 0.994276321546359\n",
            "macro-F1 0.9971233558893569\n"
          ]
        }
      ]
    },
    {
      "cell_type": "code",
      "source": [
        "# micro-F1\n",
        "average = \"micro\"\n",
        "print(\"Precisionの平均：\", precision_score(y_true=y_true, y_pred=y_pred, average=average))\n",
        "print(\"Recallの平均：\", recall_score(y_true=y_true, y_pred=y_pred, average=average))\n",
        "print(\"micro-F1\", f1_score(y_true=y_true, y_pred=y_pred, average=average))"
      ],
      "metadata": {
        "id": "N8_OXiszy3kc",
        "colab": {
          "base_uri": "https://localhost:8080/"
        },
        "outputId": "bd1bc071-27ab-4427-875b-7024a5333f45"
      },
      "execution_count": 58,
      "outputs": [
        {
          "output_type": "stream",
          "name": "stdout",
          "text": [
            "Precisionの平均： 1.0\n",
            "Recallの平均： 0.993408166475921\n",
            "micro-F1 0.9966931842484961\n"
          ]
        }
      ]
    }
  ]
}